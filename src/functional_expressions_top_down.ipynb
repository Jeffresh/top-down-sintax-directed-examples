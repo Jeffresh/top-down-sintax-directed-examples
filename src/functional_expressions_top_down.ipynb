{
 "metadata": {
  "language_info": {
   "codemirror_mode": {
    "name": "ipython",
    "version": 3
   },
   "file_extension": ".py",
   "mimetype": "text/x-python",
   "name": "python",
   "nbconvert_exporter": "python",
   "pygments_lexer": "ipython3",
   "version": 3
  },
  "orig_nbformat": 2
 },
 "nbformat": 4,
 "nbformat_minor": 2,
 "cells": [
  {
   "source": [
    "# Functional expression notation\n",
    "\n",
    "Design of  the translation scheme (offset parameters Pascal style. That is, the parameters are put on the stack form left ro right) of this grammar using\n",
    "a top down analyzer\n"
   ],
   "cell_type": "markdown",
   "metadata": {}
  },
  {
   "source": [
    "### Grammar:\n",
    "\n",
    "```\n",
    "Def -> ID Tipo Resto\n",
    "Resto -> ‘,’ Tipo ID Resto\n",
    "Resto -> epsilon\n",
    "Tipo -> INT\n",
    "Tipo -> CHAR\n",
    "Tipo -> FLOAT\n",
    "```"
   ],
   "cell_type": "markdown",
   "metadata": {}
  },
  {
   "source": [
    "### Entry example:\n",
    "\n",
    "**Input:**\n",
    "\n",
    "`f(int a, float b, char c)`\n",
    "\n",
    "**Output:**\n",
    "\n",
    "```\n",
    "Offset de c = 4\n",
    "Offset de b = 4 + sizeof(char)\n",
    "Offset de a = 4 + sizeof(char) + sizeof(float)\n",
    "\n",
    "```"
   ],
   "cell_type": "markdown",
   "metadata": {}
  },
  {
   "source": [
    "## First and follow set\n",
    "\n",
    "First of all we have to get the first and the follow set that it will define our functions that represents the rules of the grammar"
   ],
   "cell_type": "markdown",
   "metadata": {}
  },
  {
   "source": [
    "### First set\n",
    "\n",
    "- First(Def) = {ID}\n",
    "- First(Resto) = {`','`, epsilon}\n",
    "- First(Tipo) = {INT, CHAR, FLOAT}\n",
    "\n",
    "### Follow set\n",
    "- Follow(Def) = {`$`}\n",
    "- Follow(Resto) = Follow(Resto) U Follow(Def) = {`$`}\n",
    "- Follow(Tipo) = {`ID`} U First(Resto) - epsilon U Follow(Def) = {`','` `$`}"
   ],
   "cell_type": "markdown",
   "metadata": {}
  }
 ]
}